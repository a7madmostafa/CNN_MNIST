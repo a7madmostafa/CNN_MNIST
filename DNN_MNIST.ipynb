{
  "nbformat": 4,
  "nbformat_minor": 0,
  "metadata": {
    "colab": {
      "name": "DNN_MNIST.ipynb",
      "provenance": [],
      "authorship_tag": "ABX9TyN5zkF4KJvu2E7eDg/1wfDh",
      "include_colab_link": true
    },
    "kernelspec": {
      "name": "python3",
      "display_name": "Python 3"
    }
  },
  "cells": [
    {
      "cell_type": "markdown",
      "metadata": {
        "id": "view-in-github",
        "colab_type": "text"
      },
      "source": [
        "<a href=\"https://colab.research.google.com/github/a7madmostafa/CNN_MNIST/blob/main/DNN_MNIST.ipynb\" target=\"_parent\"><img src=\"https://colab.research.google.com/assets/colab-badge.svg\" alt=\"Open In Colab\"/></a>"
      ]
    },
    {
      "cell_type": "code",
      "metadata": {
        "id": "5OyWfURiB1Y_"
      },
      "source": [
        "import numpy as np\r\n",
        "import tensorflow as tf\r\n",
        "from tensorflow.keras.datasets import mnist\r\n",
        "from tensorflow.keras.models import Sequential\r\n",
        "from tensorflow.keras.layers import Flatten, Dense\r\n",
        "from tensorflow.keras.callbacks import Callback\r\n",
        "from sklearn.metrics import confusion_matrix, accuracy_score"
      ],
      "execution_count": 15,
      "outputs": []
    },
    {
      "cell_type": "code",
      "metadata": {
        "id": "O76NYwf9EDqL"
      },
      "source": [
        "class myCallback(Callback):\r\n",
        "    def on_epoch_end(self, epoch, logs={}):\r\n",
        "        if(logs.get('accuracy')>0.99):\r\n",
        "          print(\"\\nReached 99% accuracy so cancelling training!\")\r\n",
        "          self.model.stop_training = True"
      ],
      "execution_count": 2,
      "outputs": []
    },
    {
      "cell_type": "code",
      "metadata": {
        "id": "FLdc5xdOEKdC"
      },
      "source": [
        "# Load Data\r\n",
        "(x_train, y_train),(x_test, y_test) = mnist.load_data(path=\"mnist.npz\")"
      ],
      "execution_count": 3,
      "outputs": []
    },
    {
      "cell_type": "code",
      "metadata": {
        "id": "ibSF7kwWEMWy"
      },
      "source": [
        "# Scaling\r\n",
        "x_train = x_train/255.0\r\n",
        "x_test = x_test/255.0"
      ],
      "execution_count": 4,
      "outputs": []
    },
    {
      "cell_type": "code",
      "metadata": {
        "id": "ipQ6ePwcEXWd"
      },
      "source": [
        "# Model Building\r\n",
        "model = Sequential([Flatten(),\r\n",
        "                    Dense(100, activation='relu'),\r\n",
        "                    Dense(10, activation='softmax')])"
      ],
      "execution_count": 5,
      "outputs": []
    },
    {
      "cell_type": "code",
      "metadata": {
        "id": "E6D2_VpgEpL1"
      },
      "source": [
        "# Compile\r\n",
        "model.compile(optimizer='adam', loss='sparse_categorical_crossentropy', metrics=['accuracy'])"
      ],
      "execution_count": 6,
      "outputs": []
    },
    {
      "cell_type": "code",
      "metadata": {
        "colab": {
          "base_uri": "https://localhost:8080/"
        },
        "id": "jzB-o7YQEwna",
        "outputId": "048d563e-1b81-4b6d-fb03-4c787cdc507c"
      },
      "source": [
        "# Fitting\r\n",
        "history = model.fit(x_train, y_train, validation_data =(x_test, y_test), epochs=10, callbacks=[myCallback()])"
      ],
      "execution_count": 8,
      "outputs": [
        {
          "output_type": "stream",
          "text": [
            "Epoch 1/10\n",
            "1875/1875 [==============================] - 5s 2ms/step - loss: 0.4471 - accuracy: 0.8758 - val_loss: 0.1462 - val_accuracy: 0.9570\n",
            "Epoch 2/10\n",
            "1875/1875 [==============================] - 4s 2ms/step - loss: 0.1332 - accuracy: 0.9615 - val_loss: 0.1043 - val_accuracy: 0.9680\n",
            "Epoch 3/10\n",
            "1875/1875 [==============================] - 4s 2ms/step - loss: 0.0883 - accuracy: 0.9733 - val_loss: 0.0882 - val_accuracy: 0.9732\n",
            "Epoch 4/10\n",
            "1875/1875 [==============================] - 4s 2ms/step - loss: 0.0638 - accuracy: 0.9811 - val_loss: 0.0844 - val_accuracy: 0.9741\n",
            "Epoch 5/10\n",
            "1875/1875 [==============================] - 4s 2ms/step - loss: 0.0479 - accuracy: 0.9853 - val_loss: 0.0794 - val_accuracy: 0.9751\n",
            "Epoch 6/10\n",
            "1875/1875 [==============================] - 4s 2ms/step - loss: 0.0400 - accuracy: 0.9882 - val_loss: 0.0870 - val_accuracy: 0.9732\n",
            "Epoch 7/10\n",
            "1875/1875 [==============================] - 4s 2ms/step - loss: 0.0321 - accuracy: 0.9905 - val_loss: 0.0944 - val_accuracy: 0.9704\n",
            "Epoch 8/10\n",
            "1875/1875 [==============================] - 3s 2ms/step - loss: 0.0260 - accuracy: 0.9923 - val_loss: 0.0782 - val_accuracy: 0.9763\n",
            "\n",
            "Reached 99% accuracy so cancelling training!\n"
          ],
          "name": "stdout"
        }
      ]
    },
    {
      "cell_type": "code",
      "metadata": {
        "colab": {
          "base_uri": "https://localhost:8080/"
        },
        "id": "QoUqmsOhFiLX",
        "outputId": "da15bba7-a20d-46cc-f920-9e07c49c7bcd"
      },
      "source": [
        "model.summary()"
      ],
      "execution_count": 9,
      "outputs": [
        {
          "output_type": "stream",
          "text": [
            "Model: \"sequential\"\n",
            "_________________________________________________________________\n",
            "Layer (type)                 Output Shape              Param #   \n",
            "=================================================================\n",
            "flatten (Flatten)            (None, 784)               0         \n",
            "_________________________________________________________________\n",
            "dense (Dense)                (None, 100)               78500     \n",
            "_________________________________________________________________\n",
            "dense_1 (Dense)              (None, 10)                1010      \n",
            "=================================================================\n",
            "Total params: 79,510\n",
            "Trainable params: 79,510\n",
            "Non-trainable params: 0\n",
            "_________________________________________________________________\n"
          ],
          "name": "stdout"
        }
      ]
    },
    {
      "cell_type": "code",
      "metadata": {
        "colab": {
          "base_uri": "https://localhost:8080/",
          "height": 590
        },
        "id": "K7JTXL1MB8jV",
        "outputId": "57f1d198-5a28-4667-a747-af4300c828c3"
      },
      "source": [
        "import matplotlib.pyplot as plt\r\n",
        "# list all data in history\r\n",
        "print(history.history.keys())\r\n",
        "# summarize history for accuracy\r\n",
        "plt.plot(history.history['accuracy'])\r\n",
        "plt.plot(history.history['val_accuracy'])\r\n",
        "plt.title('model accuracy')\r\n",
        "plt.ylabel('accuracy')\r\n",
        "plt.xlabel('epoch')\r\n",
        "plt.legend(['train', 'test'], loc='upper left')\r\n",
        "plt.show()\r\n",
        "# summarize history for loss\r\n",
        "plt.plot(history.history['loss'])\r\n",
        "plt.plot(history.history['val_loss'])\r\n",
        "plt.title('model loss')\r\n",
        "plt.ylabel('loss')\r\n",
        "plt.xlabel('epoch')\r\n",
        "plt.legend(['train', 'test'], loc='upper left')\r\n",
        "plt.show()"
      ],
      "execution_count": 10,
      "outputs": [
        {
          "output_type": "stream",
          "text": [
            "dict_keys(['loss', 'accuracy', 'val_loss', 'val_accuracy'])\n"
          ],
          "name": "stdout"
        },
        {
          "output_type": "display_data",
          "data": {
            "image/png": "[encoded data removed]",
            "text/plain": [
              "<Figure size 432x288 with 1 Axes>"
            ]
          },
          "metadata": {
            "tags": [],
            "needs_background": "light"
          }
        },
        {
          "output_type": "display_data",
          "data": {
            "image/png": "[encoded data removed]",
            "text/plain": [
              "<Figure size 432x288 with 1 Axes>"
            ]
          },
          "metadata": {
            "tags": [],
            "needs_background": "light"
          }
        }
      ]
    },
    {
      "cell_type": "code",
      "metadata": {
        "colab": {
          "base_uri": "https://localhost:8080/"
        },
        "id": "fbiVXvrwB-2l",
        "outputId": "d3bdb015-abed-43a0-a04a-7ed4ab0df41d"
      },
      "source": [
        "y_pred = np.argmax(model.predict(x_test), axis=-1) \r\n",
        "y_pred"
      ],
      "execution_count": 17,
      "outputs": [
        {
          "output_type": "execute_result",
          "data": {
            "text/plain": [
              "array([7, 2, 1, ..., 4, 5, 6])"
            ]
          },
          "metadata": {
            "tags": []
          },
          "execution_count": 17
        }
      ]
    },
    {
      "cell_type": "code",
      "metadata": {
        "colab": {
          "base_uri": "https://localhost:8080/"
        },
        "id": "kOhchXwuCsoD",
        "outputId": "86f73ded-c5ac-4ef8-f056-c53e35c40b59"
      },
      "source": [
        "model.evaluate(x_test, y_test)"
      ],
      "execution_count": 19,
      "outputs": [
        {
          "output_type": "stream",
          "text": [
            "313/313 [==============================] - 0s 1ms/step - loss: 0.0782 - accuracy: 0.9763\n"
          ],
          "name": "stdout"
        },
        {
          "output_type": "execute_result",
          "data": {
            "text/plain": [
              "[0.0782197117805481, 0.9763000011444092]"
            ]
          },
          "metadata": {
            "tags": []
          },
          "execution_count": 19
        }
      ]
    },
    {
      "cell_type": "code",
      "metadata": {
        "colab": {
          "base_uri": "https://localhost:8080/"
        },
        "id": "QsFO0VfDG1P0",
        "outputId": "72f4f773-aed2-42e5-f5bc-d05a102d9146"
      },
      "source": [
        "confusion_matrix(y_test, y_pred)"
      ],
      "execution_count": 21,
      "outputs": [
        {
          "output_type": "execute_result",
          "data": {
            "text/plain": [
              "array([[ 971,    1,    1,    0,    1,    0,    1,    0,    2,    3],\n",
              "       [   0, 1123,    4,    2,    0,    0,    2,    0,    4,    0],\n",
              "       [   6,    0,  999,    4,    3,    0,    2,    6,   11,    1],\n",
              "       [   0,    0,    5,  986,    0,    3,    0,    3,    5,    8],\n",
              "       [   2,    0,    0,    1,  955,    0,    5,    4,    1,   14],\n",
              "       [   3,    0,    0,   16,    1,  859,    3,    1,    6,    3],\n",
              "       [   6,    3,    3,    1,    3,    4,  932,    0,    6,    0],\n",
              "       [   3,    3,   10,    3,    1,    0,    0,  997,    2,    9],\n",
              "       [   6,    0,    3,    2,    1,    2,    1,    2,  951,    6],\n",
              "       [   0,    4,    0,    3,    6,    3,    0,    0,    3,  990]])"
            ]
          },
          "metadata": {
            "tags": []
          },
          "execution_count": 21
        }
      ]
    },
    {
      "cell_type": "code",
      "metadata": {
        "colab": {
          "base_uri": "https://localhost:8080/"
        },
        "id": "tkeaL0L-G1ox",
        "outputId": "03a4681b-fde8-48d5-fdf4-a8884b9edcc3"
      },
      "source": [
        "accuracy_score(y_test, y_pred)"
      ],
      "execution_count": 22,
      "outputs": [
        {
          "output_type": "execute_result",
          "data": {
            "text/plain": [
              "0.9763"
            ]
          },
          "metadata": {
            "tags": []
          },
          "execution_count": 22
        }
      ]
    }
  ]
}